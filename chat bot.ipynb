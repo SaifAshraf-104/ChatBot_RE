{
 "cells": [
  {
   "cell_type": "code",
   "execution_count": 1,
   "metadata": {},
   "outputs": [
    {
     "name": "stdout",
     "output_type": "stream",
     "text": [
      "Support Chatbot: Hello! How can I assist you today? (type 'exit' to end the chat)\n",
      "Support Chatbot: I'm sorry, I didn't understand that. Can you provide more details?\n",
      "Support Chatbot: I'm sorry, I didn't understand that. Can you provide more details?\n",
      "Support Chatbot: Thank you for chatting with us! Have a great day!\n",
      "\n",
      "Unrecognized inputs logged for review:\n",
      "- Why is my modem blinking?\"\n",
      "- \n"
     ]
    }
   ],
   "source": [
    "import re\n",
    "\n",
    "# Define regex patterns and their corresponding responses\n",
    "patterns_responses = [\n",
    "    (re.compile(r\"I can't connect to (the )?internet\"), \n",
    "     \"I'm sorry to hear that. Have you tried restarting your modem or router?\"),\n",
    "    (re.compile(r\"My phone (has )?(no|weak|poor) signal\"), \n",
    "     \"It sounds frustrating! Please check if you're in an area with good coverage.\"),\n",
    "    (re.compile(r\"I (forgot|can't remember) my password\"), \n",
    "     \"No worries, I can guide you through the password reset process.\"),\n",
    "    (re.compile(r\"How do I reset my password(\\?)?\"), \n",
    "     \"You can reset your password by visiting our website or contacting support.\"),\n",
    "    (re.compile(r\"The line (is )?breaking up\"), \n",
    "     \"That must be inconvenient. Could you check your network connection?\"),\n",
    "    (re.compile(r\"I'm getting an error code (\\d{3})\"), \n",
    "     \"Error code 404 usually means a missing page. Are you visiting the correct URL?\"),\n",
    "    (re.compile(r\"I can't hear (the other person|them)\"), \n",
    "     \"Please ensure your device volume is up and the microphone is not muted.\"),\n",
    "    (re.compile(r\"How do I activate my (SIM card|sim)(\\?)?\"), \n",
    "     \"You can activate your SIM card by following the instructions provided with it or contacting support.\"),\n",
    "    (re.compile(r\"(The )?internet speed is (very )?slow\"), \n",
    "     \"Slow internet can be frustrating. Have you checked for bandwidth usage or restarted your router?\"),\n",
    "    (re.compile(r\"What is your customer support number(\\?)?\"), \n",
    "     \"Our customer support number is 1-800-123-4567.\")\n",
    "]\n",
    "\n",
    "# List to store unrecognized inputs for logging\n",
    "unrecognized_log = []\n",
    "\n",
    "# Function to handle user input and return the chatbot response\n",
    "def chatbot_response(user_input):\n",
    "    for pattern, response in patterns_responses:\n",
    "        if pattern.search(user_input):\n",
    "            return response\n",
    "    # Log unrecognized input\n",
    "    unrecognized_log.append(user_input)\n",
    "    return \"I'm sorry, I didn't understand that. Can you provide more details?\"\n",
    "\n",
    "# Example interactive chatbot session\n",
    "def run_chatbot():\n",
    "    print(\"Support Chatbot: Hello! How can I assist you today? (type 'exit' to end the chat)\")\n",
    "    while True:\n",
    "        user_input = input(\"You: \")\n",
    "        if user_input.lower() == 'exit':\n",
    "            print(\"Support Chatbot: Thank you for chatting with us! Have a great day!\")\n",
    "            break\n",
    "        response = chatbot_response(user_input)\n",
    "        print(f\"Support Chatbot: {response}\")\n",
    "    \n",
    "    # Display unrecognized inputs for debugging\n",
    "    if unrecognized_log:\n",
    "        print(\"\\nUnrecognized inputs logged for review:\")\n",
    "        for log in unrecognized_log:\n",
    "            print(f\"- {log}\")\n",
    "\n",
    "# Run the chatbot\n",
    "if __name__ == \"__main__\":\n",
    "    run_chatbot()\n"
   ]
  }
 ],
 "metadata": {
  "kernelspec": {
   "display_name": "base",
   "language": "python",
   "name": "python3"
  },
  "language_info": {
   "codemirror_mode": {
    "name": "ipython",
    "version": 3
   },
   "file_extension": ".py",
   "mimetype": "text/x-python",
   "name": "python",
   "nbconvert_exporter": "python",
   "pygments_lexer": "ipython3",
   "version": "3.12.4"
  }
 },
 "nbformat": 4,
 "nbformat_minor": 2
}
